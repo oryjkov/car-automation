{
 "cells": [
  {
   "cell_type": "code",
   "execution_count": 1,
   "metadata": {},
   "outputs": [],
   "source": [
    "!protoc --python_out=. --proto_path=../proto/ message.proto"
   ]
  },
  {
   "cell_type": "code",
   "execution_count": 2,
   "metadata": {},
   "outputs": [],
   "source": [
    "import message_pb2\n",
    "import pandas as pd\n",
    "import requests\n",
    "import time\n",
    "\n",
    "def parse_snoop(data):\n",
    "\tposition = 0\n",
    "\tlength_field = 0\n",
    "\twhile position < len(data):\n",
    "\t\tlength_field = data[position]\n",
    "\t\tposition += 1\n",
    "\t\tif position + length_field > len(data):\n",
    "\t\t\tprint(\"bah!\")\n",
    "\t\t\treturn\n",
    "\t\tencoded = data[position:position+length_field]\n",
    "\t\tposition += length_field\n",
    "\t\ts = message_pb2.SnoopData()\n",
    "\t\ts.ParseFromString(encoded)\n",
    "\t\tyield s\n"
   ]
  },
  {
   "cell_type": "code",
   "execution_count": 81,
   "metadata": {},
   "outputs": [
    {
     "name": "stdout",
     "output_type": "stream",
     "text": [
      "Snoop started. will run for 5000 buffer available: 51200\n",
      "22755\n"
     ]
    }
   ],
   "source": [
    "#host=\"192.168.158.113\"\n",
    "host=\"192.168.50.116\"\n",
    "duration_ms=5000\n",
    "r = requests.get(f\"http://{host}/start_snoop?duration_ms={duration_ms}\", {})\n",
    "print(r.text)\n",
    "time.sleep(duration_ms/1000+0.1)\n",
    "r = requests.get(f\"http://{host}/get_snoop\", {})\n",
    "print(len(r.content))"
   ]
  },
  {
   "cell_type": "code",
   "execution_count": 82,
   "metadata": {},
   "outputs": [
    {
     "data": {
      "text/html": [
       "<div>\n",
       "<style scoped>\n",
       "    .dataframe tbody tr th:only-of-type {\n",
       "        vertical-align: middle;\n",
       "    }\n",
       "\n",
       "    .dataframe tbody tr th {\n",
       "        vertical-align: top;\n",
       "    }\n",
       "\n",
       "    .dataframe thead th {\n",
       "        text-align: right;\n",
       "    }\n",
       "</style>\n",
       "<table border=\"1\" class=\"dataframe\">\n",
       "  <thead>\n",
       "    <tr style=\"text-align: right;\">\n",
       "      <th></th>\n",
       "      <th>prop</th>\n",
       "      <th>value</th>\n",
       "      <th>src</th>\n",
       "      <th>ts</th>\n",
       "    </tr>\n",
       "  </thead>\n",
       "  <tbody>\n",
       "    <tr>\n",
       "      <th>0</th>\n",
       "      <td>452984902</td>\n",
       "      <td>b'\\x01\\x10\\x00\\x00\\x00\\x00\\x00\\x00'</td>\n",
       "      <td>3</td>\n",
       "      <td>7941798</td>\n",
       "    </tr>\n",
       "    <tr>\n",
       "      <th>1</th>\n",
       "      <td>452984902</td>\n",
       "      <td>b'\\x01\\x10\\x00\\x00\\x00\\x00\\x00\\x00'</td>\n",
       "      <td>3</td>\n",
       "      <td>7951916</td>\n",
       "    </tr>\n",
       "    <tr>\n",
       "      <th>2</th>\n",
       "      <td>452984902</td>\n",
       "      <td>b'\\x01\\x10\\x00\\x00\\x00\\x00\\x00\\x00'</td>\n",
       "      <td>3</td>\n",
       "      <td>7961899</td>\n",
       "    </tr>\n",
       "    <tr>\n",
       "      <th>3</th>\n",
       "      <td>452984876</td>\n",
       "      <td>b',\\x00\\x01\\x01\\x00\\x00\\x00\\x00'</td>\n",
       "      <td>4</td>\n",
       "      <td>7962873</td>\n",
       "    </tr>\n",
       "    <tr>\n",
       "      <th>4</th>\n",
       "      <td>1312</td>\n",
       "      <td>b'\\x00'</td>\n",
       "      <td>3</td>\n",
       "      <td>7963193</td>\n",
       "    </tr>\n",
       "    <tr>\n",
       "      <th>...</th>\n",
       "      <td>...</td>\n",
       "      <td>...</td>\n",
       "      <td>...</td>\n",
       "      <td>...</td>\n",
       "    </tr>\n",
       "    <tr>\n",
       "      <th>1098</th>\n",
       "      <td>1333</td>\n",
       "      <td>b'\\x01'</td>\n",
       "      <td>4</td>\n",
       "      <td>11214311</td>\n",
       "    </tr>\n",
       "    <tr>\n",
       "      <th>1099</th>\n",
       "      <td>1341</td>\n",
       "      <td>b'\\xfe\\xff\\x06'</td>\n",
       "      <td>4</td>\n",
       "      <td>11214452</td>\n",
       "    </tr>\n",
       "    <tr>\n",
       "      <th>1100</th>\n",
       "      <td>1313</td>\n",
       "      <td>b'\\x00'</td>\n",
       "      <td>4</td>\n",
       "      <td>11223872</td>\n",
       "    </tr>\n",
       "    <tr>\n",
       "      <th>1101</th>\n",
       "      <td>1324</td>\n",
       "      <td>b'\\x05\\x0c/9\\x01\\x02T'</td>\n",
       "      <td>4</td>\n",
       "      <td>11224017</td>\n",
       "    </tr>\n",
       "    <tr>\n",
       "      <th>1102</th>\n",
       "      <td>1331</td>\n",
       "      <td>b'\\x0077'</td>\n",
       "      <td>4</td>\n",
       "      <td>11224159</td>\n",
       "    </tr>\n",
       "  </tbody>\n",
       "</table>\n",
       "<p>1103 rows × 4 columns</p>\n",
       "</div>"
      ],
      "text/plain": [
       "           prop                                value  src        ts\n",
       "0     452984902  b'\\x01\\x10\\x00\\x00\\x00\\x00\\x00\\x00'    3   7941798\n",
       "1     452984902  b'\\x01\\x10\\x00\\x00\\x00\\x00\\x00\\x00'    3   7951916\n",
       "2     452984902  b'\\x01\\x10\\x00\\x00\\x00\\x00\\x00\\x00'    3   7961899\n",
       "3     452984876     b',\\x00\\x01\\x01\\x00\\x00\\x00\\x00'    4   7962873\n",
       "4          1312                              b'\\x00'    3   7963193\n",
       "...         ...                                  ...  ...       ...\n",
       "1098       1333                              b'\\x01'    4  11214311\n",
       "1099       1341                      b'\\xfe\\xff\\x06'    4  11214452\n",
       "1100       1313                              b'\\x00'    4  11223872\n",
       "1101       1324               b'\\x05\\x0c/9\\x01\\x02T'    4  11224017\n",
       "1102       1331                            b'\\x0077'    4  11224159\n",
       "\n",
       "[1103 rows x 4 columns]"
      ]
     },
     "execution_count": 82,
     "metadata": {},
     "output_type": "execute_result"
    }
   ],
   "source": [
    "#f = open(\"snoop.bin\", \"rb\")\n",
    "#cont = f.read()\n",
    "#f = open(\"snoop2.bin\", \"wb\")\n",
    "#f.write(r.content)\n",
    "#f.close()\n",
    "d=[]\n",
    "#for s in parse_snoop(cont):\n",
    "for s in parse_snoop(r.content):\n",
    "\td.append({\"prop\": s.message.prop, \"value\":s.message.value, \"src\": s.metadata.source, \"ts\":s.metadata.recv_us})\n",
    "df = pd.DataFrame(d)\n",
    "df"
   ]
  },
  {
   "cell_type": "code",
   "execution_count": 83,
   "metadata": {},
   "outputs": [],
   "source": [
    "ts0 = df[0:1].ts[0]\n",
    "df['ts'] -= ts0\n",
    "df['ts'] /= 1000\n",
    "\n",
    "df=df.set_index(df.ts)"
   ]
  },
  {
   "cell_type": "code",
   "execution_count": 64,
   "metadata": {},
   "outputs": [
    {
     "name": "stdout",
     "output_type": "stream",
     "text": [
      "[452984902      1312      1314      1317      1318      1321      1323\n",
      "      1327      1329      1332      1334      1336      1337]\n",
      "[452984876      1322      1330      1340      1320      1328      1339\n",
      "      1319      1326      1338      1316      1325      1335      1315\n",
      "      1333      1341      1313      1324      1331]\n"
     ]
    },
    {
     "data": {
      "text/plain": [
       "ts\n",
       "0.000000    b'\\x01\\x10\\x00\\x00\\x00\\x00\\x00\\x00'\n",
       "0.009651    b'\\x01\\x10\\x00\\x00\\x00\\x00\\x00\\x00'\n",
       "0.019607    b'\\x01\\x10\\x00\\x00\\x00\\x00\\x00\\x00'\n",
       "0.021997       b',\\x00\\x01\\x01\\x00\\x00\\x00\\x00'\n",
       "0.029587    b'\\x01\\x10\\x00\\x00\\x00\\x00\\x00\\x00'\n",
       "0.039876    b'\\x01\\x10\\x00\\x00\\x00\\x00\\x00\\x00'\n",
       "0.049576    b'\\x01\\x10\\x00\\x00\\x00\\x00\\x00\\x00'\n",
       "0.059576    b'\\x01\\x10\\x00\\x00\\x00\\x00\\x00\\x00'\n",
       "0.069576    b'\\x01\\x10\\x00\\x00\\x00\\x00\\x00\\x00'\n",
       "0.079940    b'\\x01\\x10\\x00\\x00\\x00\\x00\\x00\\x00'\n",
       "0.090015    b'\\x01\\x10\\x00\\x00\\x00\\x00\\x00\\x00'\n",
       "0.099738    b'\\x01\\x10\\x00\\x00\\x00\\x00\\x00\\x00'\n",
       "0.199597    b'\\x01\\x10\\x00\\x00\\x00\\x00\\x00\\x00'\n",
       "0.221575       b',\\x00\\x01\\x01\\x04\\x00\\x00\\x00'\n",
       "0.299600    b'\\x01\\x10\\x00\\x00\\x00\\x00\\x00\\x00'\n",
       "0.399604    b'\\x01\\x10\\x00\\x00\\x00\\x00\\x00\\x00'\n",
       "0.421576       b',\\x00\\x01\\x01\\x04\\x00\\x00\\x00'\n",
       "0.499600    b'\\x01\\x10\\x00\\x00\\x00\\x00\\x00\\x00'\n",
       "0.599998    b'\\x01\\x10\\x00\\x00\\x00\\x00\\x00\\x00'\n",
       "0.621576       b',\\x00\\x01\\x01\\x04\\x00\\x00\\x00'\n",
       "0.699998    b'\\x01\\x10\\x00\\x00\\x00\\x00\\x00\\x00'\n",
       "0.799580    b'\\x01\\x10\\x00\\x00\\x00\\x00\\x00\\x00'\n",
       "0.821576       b',\\x00\\x01\\x01\\x04\\x00\\x00\\x00'\n",
       "0.899580    b'\\x01\\x10\\x00\\x00\\x00\\x00\\x00\\x00'\n",
       "0.999576    b'\\x01\\x10\\x00\\x00\\x00\\x00\\x00\\x00'\n",
       "1.021600       b',\\x00\\x01\\x01\\x04\\x00\\x00\\x00'\n",
       "1.099576    b'\\x01\\x10\\x00\\x00\\x00\\x00\\x00\\x00'\n",
       "1.199576    b'\\x01\\x10\\x00\\x00\\x00\\x00\\x00\\x00'\n",
       "1.221576       b',\\x00\\x01\\x01\\x04\\x00\\x00\\x00'\n",
       "1.299576    b'\\x01\\x10\\x00\\x00\\x00\\x00\\x00\\x00'\n",
       "1.399576    b'\\x01\\x10\\x00\\x00\\x00\\x00\\x00\\x00'\n",
       "1.421576       b',\\x00\\x01\\x01\\x04\\x00\\x00\\x00'\n",
       "1.499576    b'\\x01\\x10\\x00\\x00\\x00\\x00\\x00\\x00'\n",
       "1.599576    b'\\x01\\x10\\x00\\x00\\x00\\x00\\x00\\x00'\n",
       "1.621998       b',\\x00\\x01\\x01\\x04\\x00\\x00\\x00'\n",
       "1.699576    b'\\x01\\x10\\x00\\x00\\x00\\x00\\x00\\x00'\n",
       "1.799576    b'\\x01\\x10\\x00\\x00\\x00\\x00\\x00\\x00'\n",
       "1.821580       b',\\x00\\x01\\x01\\x04\\x00\\x00\\x00'\n",
       "1.899576    b'\\x01\\x10\\x00\\x00\\x00\\x00\\x00\\x00'\n",
       "1.999576    b'\\x01\\x10\\x00\\x00\\x00\\x00\\x00\\x00'\n",
       "2.021576       b',\\x00\\x01\\x01\\x04\\x00\\x00\\x00'\n",
       "2.099576    b'\\x01\\x10\\x00\\x00\\x00\\x00\\x00\\x00'\n",
       "2.199576    b'\\x01\\x10\\x00\\x00\\x00\\x00\\x00\\x00'\n",
       "2.221576       b',\\x00\\x01\\x01\\x04\\x00\\x00\\x00'\n",
       "2.299576    b'\\x01\\x10\\x00\\x00\\x00\\x00\\x00\\x00'\n",
       "2.399576    b'\\x01\\x10\\x00\\x00\\x00\\x00\\x00\\x00'\n",
       "2.421576       b',\\x00\\x01\\x01\\x04\\x00\\x00\\x00'\n",
       "2.499576    b'\\x01\\x10\\x00\\x00\\x00\\x00\\x00\\x00'\n",
       "2.599576    b'\\x01\\x10\\x00\\x00\\x00\\x00\\x00\\x00'\n",
       "2.621576       b',\\x00\\x01\\x01\\x04\\x00\\x00\\x00'\n",
       "Name: value, dtype: object"
      ]
     },
     "execution_count": 64,
     "metadata": {},
     "output_type": "execute_result"
    }
   ],
   "source": [
    "print((df[df.src==3].prop.unique()))\n",
    "print((df[df.src==4].prop.unique()))\n",
    "df[(df.src==3) & (df.prop>2000)].value\n",
    "df[(df.prop>2000)].value"
   ]
  },
  {
   "cell_type": "code",
   "execution_count": null,
   "metadata": {},
   "outputs": [],
   "source": [
    "df.style.format(formatter={\"prop\": \"0x{:04x}\", \"value\": lambda v: \"\".join(\"%02x, \" % b for b in v[:-1])+\"%02x\"%v[-1]})"
   ]
  },
  {
   "cell_type": "code",
   "execution_count": 55,
   "metadata": {},
   "outputs": [
    {
     "name": "stdout",
     "output_type": "stream",
     "text": [
      "{ .prop = 0x052a, .send_delay_ms = XX, .val = { .size = 1, .bytes = { 0x3a, } } },\n",
      "{ .prop = 0x0532, .send_delay_ms =  0, .val = { .size = 5, .bytes = { 0x00, 0x04, 0x01, 0x04, 0x01, } } },\n",
      "{ .prop = 0x053c, .send_delay_ms =  0, .val = { .size = 4, .bytes = { 0x4a, 0x00, 0x25, 0x00, } } },\n",
      "{ .prop = 0x0528, .send_delay_ms = 10, .val = { .size = 4, .bytes = { 0x02, 0x46, 0x46, 0x00, } } },\n",
      "{ .prop = 0x0530, .send_delay_ms =  0, .val = { .size = 1, .bytes = { 0x01, } } },\n",
      "{ .prop = 0x053b, .send_delay_ms =  0, .val = { .size = 6, .bytes = { 0x02, 0x24, 0xa4, 0x00, 0x20, 0x00, } } },\n",
      "{ .prop = 0x0527, .send_delay_ms = 10, .val = { .size = 6, .bytes = { 0x46, 0x46, 0x46, 0x1e, 0x1e, 0x46, } } },\n",
      "{ .prop = 0x052e, .send_delay_ms =  0, .val = { .size = 1, .bytes = { 0x75, } } },\n",
      "{ .prop = 0x053a, .send_delay_ms =  0, .val = { .size = 6, .bytes = { 0x16, 0x11, 0x09, 0x38, 0x19, 0x11, } } },\n",
      "{ .prop = 0x0524, .send_delay_ms = 10, .val = { .size = 1, .bytes = { 0x70, } } },\n",
      "{ .prop = 0x052d, .send_delay_ms =  0, .val = { .size = 1, .bytes = { 0x78, } } },\n",
      "{ .prop = 0x0537, .send_delay_ms =  0, .val = { .size = 3, .bytes = { 0x00, 0x10, 0x00, } } },\n",
      "{ .prop = 0x0523, .send_delay_ms = 10, .val = { .size = 2, .bytes = { 0xf0, 0x00, } } },\n",
      "{ .prop = 0x0535, .send_delay_ms =  0, .val = { .size = 1, .bytes = { 0x01, } } },\n",
      "{ .prop = 0x053d, .send_delay_ms =  0, .val = { .size = 3, .bytes = { 0xfe, 0xff, 0x06, } } },\n",
      "{ .prop = 0x0521, .send_delay_ms = 10, .val = { .size = 1, .bytes = { 0x00, } } },\n",
      "{ .prop = 0x052c, .send_delay_ms =  0, .val = { .size = 7, .bytes = { 0x05, 0x0c, 0x2f, 0x39, 0x01, 0x02, 0x54, } } },\n",
      "{ .prop = 0x0533, .send_delay_ms =  0, .val = { .size = 3, .bytes = { 0x00, 0x37, 0x37, } } },\n"
     ]
    }
   ],
   "source": [
    "def print_to_c(df):\n",
    "\t\"\"\"Formats a C struct definition.\"\"\"\n",
    "\tdelay = -1\n",
    "\tfor row in df.iterrows():\n",
    "\t\tf = row[1]\n",
    "\t\tif delay == -1:\n",
    "\t\t\tdelay = f['ts']\n",
    "\t\t\tpd = 'XX'  # fill in the delay between end of cycle and start of the next one.\n",
    "\t\telse:\n",
    "\t\t\tpd = '%2d' % int(round(f['ts']-delay))\n",
    "\t\tprint(f\"{{ .prop = {'0x%04x' % f['prop']}, .send_delay_ms = {pd}, .val = {{ .size = {len(f['value'])}, .bytes = {{ {''.join('0x%02x, ' % b for b in f['value'])}}} }} }},\")\n",
    "\t\tdelay = f['ts']\n",
    "print_to_c(df[(df.ts>80) & (df.ts<140) & (df.src==1)])\n",
    "#print_to_c()"
   ]
  },
  {
   "cell_type": "code",
   "execution_count": 86,
   "metadata": {},
   "outputs": [
    {
     "data": {
      "image/png": "[encoded data removed]",
      "text/plain": [
       "<Figure size 640x480 with 1 Axes>"
      ]
     },
     "metadata": {},
     "output_type": "display_data"
    }
   ],
   "source": [
    "# plot by source and separate the extended ids\n",
    "df = df.set_index(df.ts)\n",
    "#df = df[df.ts<1000]\n",
    "# First response from 1\n",
    "#print(\"first message from 1:\\n\", df[(df.ts>0) & (df.ts<30) & (df.src==1)])\n",
    "\n",
    "#print(\"message groups from 1:\\n\", df[(df.ts>80) & (df.ts<140) & (df.src==1)])\n",
    "\n",
    "#df = df[(df.ts>0) & (df.ts<412) & (df.src==2)]\n",
    "def plot_by_src(df):\n",
    "\tfor src in [4,3, 3.5, 4.5]:\n",
    "\t\tdf[(df.src==src) & (df.prop < 2000)].src.plot(marker='o')\n",
    "\t\tdf[(df.src==src) & (df.prop > 2000)].src.plot(marker='o')\n",
    "burst = df[(df.ts>90) & (df.ts<95)]\n",
    "#burst = df[(df.ts>140) & (df.ts<220)]\n",
    "#print_to_c(burst_from_1)\n",
    "plot_by_src(df[(df.ts<220)])\n",
    "#plot_by_src(df[(df.ts>140) & (df.ts<220)])\n",
    "\n",
    "#plot_by_src(df[(df.ts>100) & (df.ts<125) & (df.src==3)])\n",
    "#print_to_c(df[(df.ts>100) & (df.ts<125) & (df.src==2)])"
   ]
  },
  {
   "cell_type": "code",
   "execution_count": 100,
   "metadata": {},
   "outputs": [
    {
     "data": {
      "text/html": [
       "<div>\n",
       "<style scoped>\n",
       "    .dataframe tbody tr th:only-of-type {\n",
       "        vertical-align: middle;\n",
       "    }\n",
       "\n",
       "    .dataframe tbody tr th {\n",
       "        vertical-align: top;\n",
       "    }\n",
       "\n",
       "    .dataframe thead th {\n",
       "        text-align: right;\n",
       "    }\n",
       "</style>\n",
       "<table border=\"1\" class=\"dataframe\">\n",
       "  <thead>\n",
       "    <tr style=\"text-align: right;\">\n",
       "      <th></th>\n",
       "      <th>prop</th>\n",
       "      <th>src</th>\n",
       "      <th>ts</th>\n",
       "    </tr>\n",
       "  </thead>\n",
       "  <tbody>\n",
       "    <tr>\n",
       "      <th>count</th>\n",
       "      <td>7.130000e+02</td>\n",
       "      <td>713.0</td>\n",
       "      <td>7.130000e+02</td>\n",
       "    </tr>\n",
       "    <tr>\n",
       "      <th>mean</th>\n",
       "      <td>1.270774e+07</td>\n",
       "      <td>1.0</td>\n",
       "      <td>1.981629e+06</td>\n",
       "    </tr>\n",
       "    <tr>\n",
       "      <th>std</th>\n",
       "      <td>7.484784e+07</td>\n",
       "      <td>0.0</td>\n",
       "      <td>1.113417e+06</td>\n",
       "    </tr>\n",
       "    <tr>\n",
       "      <th>min</th>\n",
       "      <td>1.313000e+03</td>\n",
       "      <td>1.0</td>\n",
       "      <td>2.347700e+04</td>\n",
       "    </tr>\n",
       "    <tr>\n",
       "      <th>25%</th>\n",
       "      <td>1.320000e+03</td>\n",
       "      <td>1.0</td>\n",
       "      <td>1.013277e+06</td>\n",
       "    </tr>\n",
       "    <tr>\n",
       "      <th>50%</th>\n",
       "      <td>1.328000e+03</td>\n",
       "      <td>1.0</td>\n",
       "      <td>1.993160e+06</td>\n",
       "    </tr>\n",
       "    <tr>\n",
       "      <th>75%</th>\n",
       "      <td>1.335000e+03</td>\n",
       "      <td>1.0</td>\n",
       "      <td>2.932986e+06</td>\n",
       "    </tr>\n",
       "    <tr>\n",
       "      <th>max</th>\n",
       "      <td>4.529849e+08</td>\n",
       "      <td>1.0</td>\n",
       "      <td>3.903489e+06</td>\n",
       "    </tr>\n",
       "  </tbody>\n",
       "</table>\n",
       "</div>"
      ],
      "text/plain": [
       "               prop    src            ts\n",
       "count  7.130000e+02  713.0  7.130000e+02\n",
       "mean   1.270774e+07    1.0  1.981629e+06\n",
       "std    7.484784e+07    0.0  1.113417e+06\n",
       "min    1.313000e+03    1.0  2.347700e+04\n",
       "25%    1.320000e+03    1.0  1.013277e+06\n",
       "50%    1.328000e+03    1.0  1.993160e+06\n",
       "75%    1.335000e+03    1.0  2.932986e+06\n",
       "max    4.529849e+08    1.0  3.903489e+06"
      ]
     },
     "execution_count": 100,
     "metadata": {},
     "output_type": "execute_result"
    }
   ],
   "source": [
    "df[df.src==1].describe()"
   ]
  },
  {
   "cell_type": "code",
   "execution_count": 77,
   "metadata": {},
   "outputs": [
    {
     "data": {
      "text/plain": [
       "<AxesSubplot:ylabel='car'>"
      ]
     },
     "execution_count": 77,
     "metadata": {},
     "output_type": "execute_result"
    },
    {
     "data": {
      "image/png": "[encoded data removed]",
      "text/plain": [
       "<Figure size 640x480 with 1 Axes>"
      ]
     },
     "metadata": {},
     "output_type": "display_data"
    }
   ],
   "source": [
    "df[df.src==1][:1]\n",
    "#df[:40]\n",
    "df[df.prop==452984902].reset_index().ts.diff().plot()\n",
    "ax=df[df.prop==452984876].reset_index().ts.diff().plot(legend=True, ylabel=\"car\")\n",
    "df[df.prop==1318].reset_index().ts.diff().plot()"
   ]
  },
  {
   "cell_type": "code",
   "execution_count": null,
   "metadata": {},
   "outputs": [],
   "source": []
  }
 ],
 "metadata": {
  "kernelspec": {
   "display_name": "Python 3.10.6 ('vscode')",
   "language": "python",
   "name": "python3"
  },
  "language_info": {
   "codemirror_mode": {
    "name": "ipython",
    "version": 3
   },
   "file_extension": ".py",
   "mimetype": "text/x-python",
   "name": "python",
   "nbconvert_exporter": "python",
   "pygments_lexer": "ipython3",
   "version": "3.10.6"
  },
  "orig_nbformat": 4,
  "vscode": {
   "interpreter": {
    "hash": "abcf9a594d227fe8546474326e095c81c11f00841cf7e3fe22520785a7310ce1"
   }
  }
 },
 "nbformat": 4,
 "nbformat_minor": 2
}
