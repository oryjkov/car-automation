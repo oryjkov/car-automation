{
 "cells": [
  {
   "cell_type": "code",
   "execution_count": 2,
   "metadata": {},
   "outputs": [],
   "source": [
    "!protoc --python_out=. --proto_path=../proto/ message.proto"
   ]
  },
  {
   "cell_type": "code",
   "execution_count": 4,
   "metadata": {},
   "outputs": [],
   "source": [
    "import message_pb2\n",
    "import pandas as pd\n",
    "import requests\n",
    "import time\n",
    "\n",
    "def parse_snoop(data):\n",
    "\tposition = 0\n",
    "\tlength_field = 0\n",
    "\twhile position < len(data):\n",
    "\t\tlength_field = data[position]\n",
    "\t\tposition += 1\n",
    "\t\tif position + length_field > len(data):\n",
    "\t\t\tprint(\"bah!\")\n",
    "\t\t\treturn\n",
    "\t\tencoded = data[position:position+length_field]\n",
    "\t\tposition += length_field\n",
    "\t\ts = message_pb2.SnoopData()\n",
    "\t\ts.ParseFromString(encoded)\n",
    "\t\tyield s\n"
   ]
  },
  {
   "cell_type": "code",
   "execution_count": 5,
   "metadata": {},
   "outputs": [
    {
     "name": "stdout",
     "output_type": "stream",
     "text": [
      "Snoop started. will run for 3000 buffer available: 51200\n",
      "14090\n"
     ]
    }
   ],
   "source": [
    "host=\"192.168.50.116\"\n",
    "host=\"192.168.158.113\"\n",
    "duration_ms=3000\n",
    "r = requests.get(f\"http://{host}/start_snoop?duration_ms={duration_ms}\", {})\n",
    "print(r.text)\n",
    "time.sleep(duration_ms/1000+0.1)\n",
    "r = requests.get(f\"http://{host}/get_snoop\", {})\n",
    "print(len(r.content))"
   ]
  },
  {
   "cell_type": "code",
   "execution_count": 3,
   "metadata": {},
   "outputs": [
    {
     "data": {
      "text/html": [
       "<div>\n",
       "<style scoped>\n",
       "    .dataframe tbody tr th:only-of-type {\n",
       "        vertical-align: middle;\n",
       "    }\n",
       "\n",
       "    .dataframe tbody tr th {\n",
       "        vertical-align: top;\n",
       "    }\n",
       "\n",
       "    .dataframe thead th {\n",
       "        text-align: right;\n",
       "    }\n",
       "</style>\n",
       "<table border=\"1\" class=\"dataframe\">\n",
       "  <thead>\n",
       "    <tr style=\"text-align: right;\">\n",
       "      <th></th>\n",
       "      <th>prop</th>\n",
       "      <th>value</th>\n",
       "      <th>src</th>\n",
       "      <th>ts</th>\n",
       "    </tr>\n",
       "  </thead>\n",
       "  <tbody>\n",
       "    <tr>\n",
       "      <th>0</th>\n",
       "      <td>452984902</td>\n",
       "      <td>b'\\x01\\x10\\x00\\x00\\x00\\x00\\x00\\x00'</td>\n",
       "      <td>1</td>\n",
       "      <td>84969696</td>\n",
       "    </tr>\n",
       "    <tr>\n",
       "      <th>1</th>\n",
       "      <td>452984902</td>\n",
       "      <td>b'\\x01\\x10\\x00\\x00\\x00\\x00\\x00\\x00'</td>\n",
       "      <td>1</td>\n",
       "      <td>84979242</td>\n",
       "    </tr>\n",
       "    <tr>\n",
       "      <th>2</th>\n",
       "      <td>452984902</td>\n",
       "      <td>b'\\x01\\x10\\x00\\x00\\x00\\x00\\x00\\x00'</td>\n",
       "      <td>1</td>\n",
       "      <td>84989249</td>\n",
       "    </tr>\n",
       "    <tr>\n",
       "      <th>3</th>\n",
       "      <td>452984902</td>\n",
       "      <td>b'\\x01\\x10\\x00\\x00\\x00\\x00\\x00\\x00'</td>\n",
       "      <td>1</td>\n",
       "      <td>84999232</td>\n",
       "    </tr>\n",
       "    <tr>\n",
       "      <th>4</th>\n",
       "      <td>452984876</td>\n",
       "      <td>b',\\x00\\x01\\x01\\x00\\x00\\x00\\x00'</td>\n",
       "      <td>1</td>\n",
       "      <td>85001668</td>\n",
       "    </tr>\n",
       "    <tr>\n",
       "      <th>...</th>\n",
       "      <td>...</td>\n",
       "      <td>...</td>\n",
       "      <td>...</td>\n",
       "      <td>...</td>\n",
       "    </tr>\n",
       "    <tr>\n",
       "      <th>594</th>\n",
       "      <td>1328</td>\n",
       "      <td>b'\\x00'</td>\n",
       "      <td>1</td>\n",
       "      <td>86871418</td>\n",
       "    </tr>\n",
       "    <tr>\n",
       "      <th>595</th>\n",
       "      <td>1339</td>\n",
       "      <td>b'\\x02$\\xa4\\x00 \\x00'</td>\n",
       "      <td>1</td>\n",
       "      <td>86871600</td>\n",
       "    </tr>\n",
       "    <tr>\n",
       "      <th>596</th>\n",
       "      <td>1319</td>\n",
       "      <td>b'FFF\\x1e\\x1eF'</td>\n",
       "      <td>1</td>\n",
       "      <td>86881246</td>\n",
       "    </tr>\n",
       "    <tr>\n",
       "      <th>597</th>\n",
       "      <td>1326</td>\n",
       "      <td>b'u'</td>\n",
       "      <td>1</td>\n",
       "      <td>86881452</td>\n",
       "    </tr>\n",
       "    <tr>\n",
       "      <th>598</th>\n",
       "      <td>1338</td>\n",
       "      <td>b'\\x16)\\t4\\x1e\\x0e'</td>\n",
       "      <td>1</td>\n",
       "      <td>86881666</td>\n",
       "    </tr>\n",
       "  </tbody>\n",
       "</table>\n",
       "<p>599 rows × 4 columns</p>\n",
       "</div>"
      ],
      "text/plain": [
       "          prop                                value  src        ts\n",
       "0    452984902  b'\\x01\\x10\\x00\\x00\\x00\\x00\\x00\\x00'    1  84969696\n",
       "1    452984902  b'\\x01\\x10\\x00\\x00\\x00\\x00\\x00\\x00'    1  84979242\n",
       "2    452984902  b'\\x01\\x10\\x00\\x00\\x00\\x00\\x00\\x00'    1  84989249\n",
       "3    452984902  b'\\x01\\x10\\x00\\x00\\x00\\x00\\x00\\x00'    1  84999232\n",
       "4    452984876     b',\\x00\\x01\\x01\\x00\\x00\\x00\\x00'    1  85001668\n",
       "..         ...                                  ...  ...       ...\n",
       "594       1328                              b'\\x00'    1  86871418\n",
       "595       1339                b'\\x02$\\xa4\\x00 \\x00'    1  86871600\n",
       "596       1319                      b'FFF\\x1e\\x1eF'    1  86881246\n",
       "597       1326                                 b'u'    1  86881452\n",
       "598       1338                  b'\\x16)\\t4\\x1e\\x0e'    1  86881666\n",
       "\n",
       "[599 rows x 4 columns]"
      ]
     },
     "execution_count": 3,
     "metadata": {},
     "output_type": "execute_result"
    }
   ],
   "source": [
    "f = open(\"snoop_vanda.bin\", \"wb\")\n",
    "f.write(r.content)\n",
    "f.close()\n",
    "d=[]\n",
    "#for s in parse_snoop(cont):\n",
    "for s in parse_snoop(r.content):\n",
    "\td.append({\"prop\": s.message.prop, \"value\":s.message.value, \"src\": s.metadata.source, \"ts\":s.metadata.recv_us})\n",
    "df = pd.DataFrame(d)\n",
    "df"
   ]
  },
  {
   "cell_type": "code",
   "execution_count": 4,
   "metadata": {},
   "outputs": [],
   "source": [
    "f = open(\"snoop2.bin\", \"rb\")\n",
    "cont = f.read()\n",
    "f.close()\n",
    "d=[]\n",
    "for s in parse_snoop(cont):\n",
    "\td.append({\"prop\": s.message.prop, \"value\":s.message.value, \"src\": s.metadata.source, \"ts\":s.metadata.recv_us})\n",
    "df = pd.DataFrame(d)\n",
    "\n",
    "ts0 = df[0:1].ts[0]\n",
    "df['ts'] -= ts0\n",
    "df['ts'] /= 1000\n",
    "\n",
    "df=df.set_index(df.ts)"
   ]
  },
  {
   "cell_type": "code",
   "execution_count": 242,
   "metadata": {},
   "outputs": [
    {
     "name": "stdout",
     "output_type": "stream",
     "text": [
      "[452984876]\n",
      "[]\n"
     ]
    },
    {
     "data": {
      "text/plain": [
       "Series([], Name: value, dtype: object)"
      ]
     },
     "execution_count": 242,
     "metadata": {},
     "output_type": "execute_result"
    }
   ],
   "source": [
    "print((df[df.src==1].prop.unique()))\n",
    "print((df[df.src==2].prop.unique()))\n",
    "df[(df.src==2) & (df.prop>2000)].value"
   ]
  },
  {
   "cell_type": "code",
   "execution_count": null,
   "metadata": {},
   "outputs": [],
   "source": [
    "df.style.format(formatter={\"prop\": \"0x{:04x}\", \"value\": lambda v: \"\".join(\"%02x, \" % b for b in v[:-1])+\"%02x\"%v[-1]})"
   ]
  },
  {
   "cell_type": "code",
   "execution_count": 17,
   "metadata": {},
   "outputs": [
    {
     "name": "stdout",
     "output_type": "stream",
     "text": [
      "{ .prop = 0x1b000046, .send_delay_ms = XX, .val = { .size = 8, .bytes = { 0x01, 0x10, 0x00, 0x00, 0x00, 0x00, 0x00, 0x00, } } },\n",
      "{ .prop = 0x1b000046, .send_delay_ms = 10, .val = { .size = 8, .bytes = { 0x01, 0x10, 0x00, 0x00, 0x00, 0x00, 0x00, 0x00, } } },\n",
      "{ .prop = 0x1b000046, .send_delay_ms = 10, .val = { .size = 8, .bytes = { 0x01, 0x10, 0x00, 0x00, 0x00, 0x00, 0x00, 0x00, } } },\n",
      "{ .prop = 0x1b000046, .send_delay_ms = 10, .val = { .size = 8, .bytes = { 0x01, 0x10, 0x00, 0x00, 0x00, 0x00, 0x00, 0x00, } } },\n",
      "{ .prop = 0x1b000046, .send_delay_ms = 10, .val = { .size = 8, .bytes = { 0x01, 0x10, 0x00, 0x00, 0x00, 0x00, 0x00, 0x00, } } },\n",
      "{ .prop = 0x1b000046, .send_delay_ms = 10, .val = { .size = 8, .bytes = { 0x01, 0x10, 0x00, 0x00, 0x00, 0x00, 0x00, 0x00, } } },\n",
      "{ .prop = 0x1b000046, .send_delay_ms = 10, .val = { .size = 8, .bytes = { 0x01, 0x10, 0x00, 0x00, 0x00, 0x00, 0x00, 0x00, } } },\n",
      "{ .prop = 0x1b000046, .send_delay_ms = 10, .val = { .size = 8, .bytes = { 0x01, 0x10, 0x00, 0x00, 0x00, 0x00, 0x00, 0x00, } } },\n",
      "{ .prop = 0x1b000046, .send_delay_ms = 10, .val = { .size = 8, .bytes = { 0x01, 0x10, 0x00, 0x00, 0x00, 0x00, 0x00, 0x00, } } },\n",
      "{ .prop = 0x1b000046, .send_delay_ms = 100, .val = { .size = 8, .bytes = { 0x01, 0x10, 0x00, 0x00, 0x00, 0x00, 0x00, 0x00, } } },\n",
      "{ .prop = 0x1b000046, .send_delay_ms = 100, .val = { .size = 8, .bytes = { 0x01, 0x10, 0x00, 0x00, 0x00, 0x00, 0x00, 0x00, } } },\n",
      "{ .prop = 0x1b000046, .send_delay_ms = 100, .val = { .size = 8, .bytes = { 0x01, 0x10, 0x00, 0x00, 0x00, 0x00, 0x00, 0x00, } } },\n",
      "{ .prop = 0x1b000046, .send_delay_ms = 100, .val = { .size = 8, .bytes = { 0x01, 0x10, 0x00, 0x00, 0x00, 0x00, 0x00, 0x00, } } },\n",
      "{ .prop = 0x1b000046, .send_delay_ms = 100, .val = { .size = 8, .bytes = { 0x01, 0x10, 0x00, 0x00, 0x00, 0x00, 0x00, 0x00, } } },\n",
      "{ .prop = 0x1b000046, .send_delay_ms = 100, .val = { .size = 8, .bytes = { 0x01, 0x10, 0x00, 0x00, 0x00, 0x00, 0x00, 0x00, } } },\n",
      "{ .prop = 0x1b000046, .send_delay_ms = 100, .val = { .size = 8, .bytes = { 0x01, 0x10, 0x00, 0x00, 0x00, 0x00, 0x00, 0x00, } } },\n",
      "{ .prop = 0x1b000046, .send_delay_ms = 100, .val = { .size = 8, .bytes = { 0x01, 0x10, 0x00, 0x00, 0x00, 0x00, 0x00, 0x00, } } },\n",
      "{ .prop = 0x1b000046, .send_delay_ms = 100, .val = { .size = 8, .bytes = { 0x01, 0x10, 0x00, 0x00, 0x00, 0x00, 0x00, 0x00, } } },\n",
      "{ .prop = 0x1b000046, .send_delay_ms = 100, .val = { .size = 8, .bytes = { 0x01, 0x10, 0x00, 0x00, 0x00, 0x00, 0x00, 0x00, } } },\n"
     ]
    }
   ],
   "source": [
    "def print_to_c(df):\n",
    "\t\"\"\"Formats a C struct definition.\"\"\"\n",
    "\tdelay = -1\n",
    "\tfor row in df.iterrows():\n",
    "\t\tf = row[1]\n",
    "\t\tif delay == -1:\n",
    "\t\t\tdelay = f['ts']\n",
    "\t\t\tpd = 'XX'  # fill in the delay between end of cycle and start of the next one.\n",
    "\t\telse:\n",
    "\t\t\tpd = '%2d' % int(round(f['ts']-delay))\n",
    "\t\tprint(f\"{{ .prop = {'0x%04x' % f['prop']}, .send_delay_ms = {pd}, .val = {{ .size = {len(f['value'])}, .bytes = {{ {''.join('0x%02x, ' % b for b in f['value'])}}} }} }},\")\n",
    "\t\tdelay = f['ts']\n",
    "print_to_c(df[(df.ts>0) & (df.ts<1100) & (df.src==2) & (df.prop>2000)])\n",
    "#print_to_c()"
   ]
  },
  {
   "cell_type": "code",
   "execution_count": 19,
   "metadata": {},
   "outputs": [
    {
     "data": {
      "image/png": "[encoded data removed]",
      "text/plain": [
       "<Figure size 640x480 with 1 Axes>"
      ]
     },
     "metadata": {},
     "output_type": "display_data"
    }
   ],
   "source": [
    "# plot by source and separate the extended ids\n",
    "df = df.set_index(df.ts)\n",
    "#df = df[df.ts<1000]\n",
    "# First response from 1\n",
    "#print(\"first message from 1:\\n\", df[(df.ts>0) & (df.ts<30) & (df.src==1)])\n",
    "\n",
    "#print(\"message groups from 1:\\n\", df[(df.ts>80) & (df.ts<140) & (df.src==1)])\n",
    "\n",
    "#df = df[(df.ts>0) & (df.ts<412) & (df.src==2)]\n",
    "def plot_by_src(df):\n",
    "\tfor src in [1,2]:\n",
    "\t\tdf[(df.src==src) & (df.prop < 2000)].src.plot(marker='o')\n",
    "\t\tdf[(df.src==src) & (df.prop > 2000)].src.plot(marker='o')\n",
    "burst_from_1 = df[(df.ts>100) & (df.ts<110) & (df.src==1)]\n",
    "#print_to_c(burst_from_1)\n",
    "plot_by_src(df[(df.ts < 220)])\n",
    "\n",
    "#plot_by_src(df[(df.ts>100) & (df.ts<125) & (df.src==2)])\n",
    "#print_to_c(df[(df.ts>100) & (df.ts<125) & (df.src==2)])"
   ]
  },
  {
   "cell_type": "code",
   "execution_count": 100,
   "metadata": {},
   "outputs": [
    {
     "data": {
      "text/html": [
       "<div>\n",
       "<style scoped>\n",
       "    .dataframe tbody tr th:only-of-type {\n",
       "        vertical-align: middle;\n",
       "    }\n",
       "\n",
       "    .dataframe tbody tr th {\n",
       "        vertical-align: top;\n",
       "    }\n",
       "\n",
       "    .dataframe thead th {\n",
       "        text-align: right;\n",
       "    }\n",
       "</style>\n",
       "<table border=\"1\" class=\"dataframe\">\n",
       "  <thead>\n",
       "    <tr style=\"text-align: right;\">\n",
       "      <th></th>\n",
       "      <th>prop</th>\n",
       "      <th>src</th>\n",
       "      <th>ts</th>\n",
       "    </tr>\n",
       "  </thead>\n",
       "  <tbody>\n",
       "    <tr>\n",
       "      <th>count</th>\n",
       "      <td>7.130000e+02</td>\n",
       "      <td>713.0</td>\n",
       "      <td>7.130000e+02</td>\n",
       "    </tr>\n",
       "    <tr>\n",
       "      <th>mean</th>\n",
       "      <td>1.270774e+07</td>\n",
       "      <td>1.0</td>\n",
       "      <td>1.981629e+06</td>\n",
       "    </tr>\n",
       "    <tr>\n",
       "      <th>std</th>\n",
       "      <td>7.484784e+07</td>\n",
       "      <td>0.0</td>\n",
       "      <td>1.113417e+06</td>\n",
       "    </tr>\n",
       "    <tr>\n",
       "      <th>min</th>\n",
       "      <td>1.313000e+03</td>\n",
       "      <td>1.0</td>\n",
       "      <td>2.347700e+04</td>\n",
       "    </tr>\n",
       "    <tr>\n",
       "      <th>25%</th>\n",
       "      <td>1.320000e+03</td>\n",
       "      <td>1.0</td>\n",
       "      <td>1.013277e+06</td>\n",
       "    </tr>\n",
       "    <tr>\n",
       "      <th>50%</th>\n",
       "      <td>1.328000e+03</td>\n",
       "      <td>1.0</td>\n",
       "      <td>1.993160e+06</td>\n",
       "    </tr>\n",
       "    <tr>\n",
       "      <th>75%</th>\n",
       "      <td>1.335000e+03</td>\n",
       "      <td>1.0</td>\n",
       "      <td>2.932986e+06</td>\n",
       "    </tr>\n",
       "    <tr>\n",
       "      <th>max</th>\n",
       "      <td>4.529849e+08</td>\n",
       "      <td>1.0</td>\n",
       "      <td>3.903489e+06</td>\n",
       "    </tr>\n",
       "  </tbody>\n",
       "</table>\n",
       "</div>"
      ],
      "text/plain": [
       "               prop    src            ts\n",
       "count  7.130000e+02  713.0  7.130000e+02\n",
       "mean   1.270774e+07    1.0  1.981629e+06\n",
       "std    7.484784e+07    0.0  1.113417e+06\n",
       "min    1.313000e+03    1.0  2.347700e+04\n",
       "25%    1.320000e+03    1.0  1.013277e+06\n",
       "50%    1.328000e+03    1.0  1.993160e+06\n",
       "75%    1.335000e+03    1.0  2.932986e+06\n",
       "max    4.529849e+08    1.0  3.903489e+06"
      ]
     },
     "execution_count": 100,
     "metadata": {},
     "output_type": "execute_result"
    }
   ],
   "source": [
    "df[df.src==1].describe()"
   ]
  },
  {
   "cell_type": "code",
   "execution_count": 77,
   "metadata": {},
   "outputs": [
    {
     "data": {
      "text/plain": [
       "<AxesSubplot:ylabel='car'>"
      ]
     },
     "execution_count": 77,
     "metadata": {},
     "output_type": "execute_result"
    },
    {
     "data": {
      "image/png": "[encoded data removed]",
      "text/plain": [
       "<Figure size 640x480 with 1 Axes>"
      ]
     },
     "metadata": {},
     "output_type": "display_data"
    }
   ],
   "source": [
    "df[df.src==1][:1]\n",
    "#df[:40]\n",
    "df[df.prop==452984902].reset_index().ts.diff().plot()\n",
    "ax=df[df.prop==452984876].reset_index().ts.diff().plot(legend=True, ylabel=\"car\")\n",
    "df[df.prop==1318].reset_index().ts.diff().plot()"
   ]
  },
  {
   "cell_type": "code",
   "execution_count": null,
   "metadata": {},
   "outputs": [],
   "source": []
  }
 ],
 "metadata": {
  "kernelspec": {
   "display_name": "Python 3.10.6 ('vscode')",
   "language": "python",
   "name": "python3"
  },
  "language_info": {
   "codemirror_mode": {
    "name": "ipython",
    "version": 3
   },
   "file_extension": ".py",
   "mimetype": "text/x-python",
   "name": "python",
   "nbconvert_exporter": "python",
   "pygments_lexer": "ipython3",
   "version": "3.10.6"
  },
  "orig_nbformat": 4,
  "vscode": {
   "interpreter": {
    "hash": "abcf9a594d227fe8546474326e095c81c11f00841cf7e3fe22520785a7310ce1"
   }
  }
 },
 "nbformat": 4,
 "nbformat_minor": 2
}
