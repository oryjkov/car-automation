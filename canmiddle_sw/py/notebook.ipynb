{
 "cells": [
  {
   "cell_type": "code",
   "execution_count": 3,
   "metadata": {},
   "outputs": [],
   "source": [
    "!protoc --python_out=. --proto_path=../proto/ message.proto"
   ]
  },
  {
   "cell_type": "code",
   "execution_count": null,
   "metadata": {},
   "outputs": [],
   "source": [
    "import message_pb2\n",
    "import pandas as pd\n",
    "import requests\n",
    "import time\n",
    "\n",
    "def parse_snoop(data):\n",
    "\tposition = 0\n",
    "\tlength_field = 0\n",
    "\twhile position < len(data):\n",
    "\t\tlength_field = data[position]\n",
    "\t\tposition += 1\n",
    "\t\tif position + length_field > len(data):\n",
    "\t\t\tprint(\"bah!\")\n",
    "\t\t\treturn\n",
    "\t\tencoded = data[position:position+length_field]\n",
    "\t\tposition += length_field\n",
    "\t\ts = message_pb2.SnoopData()\n",
    "\t\ts.ParseFromString(encoded)\n",
    "\t\tyield s\n"
   ]
  },
  {
   "cell_type": "code",
   "execution_count": 16,
   "metadata": {},
   "outputs": [
    {
     "name": "stdout",
     "output_type": "stream",
     "text": [
      "Snoop started. will run for 1000 buffer available: 51200\n",
      "12572\n"
     ]
    }
   ],
   "source": [
    "host=\"192.168.158.113\"\n",
    "host=\"192.168.50.116\"\n",
    "duration_ms=1000\n",
    "r = requests.get(f\"http://{host}/start_snoop?duration_ms={duration_ms}\", {})\n",
    "print(r.text)\n",
    "time.sleep(duration_ms/1000+0.1)\n",
    "r = requests.get(f\"http://{host}/get_snoop\", {})\n",
    "print(len(r.content))"
   ]
  },
  {
   "cell_type": "code",
   "execution_count": 17,
   "metadata": {},
   "outputs": [
    {
     "data": {
      "text/html": [
       "<div>\n",
       "<style scoped>\n",
       "    .dataframe tbody tr th:only-of-type {\n",
       "        vertical-align: middle;\n",
       "    }\n",
       "\n",
       "    .dataframe tbody tr th {\n",
       "        vertical-align: top;\n",
       "    }\n",
       "\n",
       "    .dataframe thead th {\n",
       "        text-align: right;\n",
       "    }\n",
       "</style>\n",
       "<table border=\"1\" class=\"dataframe\">\n",
       "  <thead>\n",
       "    <tr style=\"text-align: right;\">\n",
       "      <th></th>\n",
       "      <th>prop</th>\n",
       "      <th>value</th>\n",
       "      <th>src</th>\n",
       "      <th>ts</th>\n",
       "    </tr>\n",
       "  </thead>\n",
       "  <tbody>\n",
       "    <tr>\n",
       "      <th>0</th>\n",
       "      <td>342</td>\n",
       "      <td>b'\\x19\\x83\\xa3\\x87I\\xed'</td>\n",
       "      <td>1</td>\n",
       "      <td>104676236</td>\n",
       "    </tr>\n",
       "    <tr>\n",
       "      <th>1</th>\n",
       "      <td>342</td>\n",
       "      <td>b'\\x19\\x83\\xa3\\x87I\\xed'</td>\n",
       "      <td>2</td>\n",
       "      <td>104677342</td>\n",
       "    </tr>\n",
       "    <tr>\n",
       "      <th>2</th>\n",
       "      <td>426519218</td>\n",
       "      <td>b'\\x1c\\xd3@\\xf2\\xdc'</td>\n",
       "      <td>1</td>\n",
       "      <td>104678198</td>\n",
       "    </tr>\n",
       "    <tr>\n",
       "      <th>3</th>\n",
       "      <td>426519218</td>\n",
       "      <td>b'\\x1c\\xd3@\\xf2\\xdc'</td>\n",
       "      <td>2</td>\n",
       "      <td>104679225</td>\n",
       "    </tr>\n",
       "    <tr>\n",
       "      <th>4</th>\n",
       "      <td>48885000</td>\n",
       "      <td>b'\\x83\\xda\\x92\\x1f'</td>\n",
       "      <td>1</td>\n",
       "      <td>104680270</td>\n",
       "    </tr>\n",
       "    <tr>\n",
       "      <th>...</th>\n",
       "      <td>...</td>\n",
       "      <td>...</td>\n",
       "      <td>...</td>\n",
       "      <td>...</td>\n",
       "    </tr>\n",
       "    <tr>\n",
       "      <th>534</th>\n",
       "      <td>28344058</td>\n",
       "      <td>b'\\xde\\xb2'</td>\n",
       "      <td>1</td>\n",
       "      <td>105660008</td>\n",
       "    </tr>\n",
       "    <tr>\n",
       "      <th>535</th>\n",
       "      <td>28344058</td>\n",
       "      <td>b'\\xde\\xb2'</td>\n",
       "      <td>2</td>\n",
       "      <td>105660713</td>\n",
       "    </tr>\n",
       "    <tr>\n",
       "      <th>536</th>\n",
       "      <td>2032</td>\n",
       "      <td>b'\\x7f\\x95\\x15P'</td>\n",
       "      <td>2</td>\n",
       "      <td>105672169</td>\n",
       "    </tr>\n",
       "    <tr>\n",
       "      <th>537</th>\n",
       "      <td>125637886</td>\n",
       "      <td>b'\\x1e\\x8d\\x1d\\t\\xe1,'</td>\n",
       "      <td>1</td>\n",
       "      <td>105674074</td>\n",
       "    </tr>\n",
       "    <tr>\n",
       "      <th>538</th>\n",
       "      <td>125637886</td>\n",
       "      <td>b'\\x1e\\x8d\\x1d\\t\\xe1,'</td>\n",
       "      <td>2</td>\n",
       "      <td>105674922</td>\n",
       "    </tr>\n",
       "  </tbody>\n",
       "</table>\n",
       "<p>539 rows × 4 columns</p>\n",
       "</div>"
      ],
      "text/plain": [
       "          prop                     value  src         ts\n",
       "0          342  b'\\x19\\x83\\xa3\\x87I\\xed'    1  104676236\n",
       "1          342  b'\\x19\\x83\\xa3\\x87I\\xed'    2  104677342\n",
       "2    426519218      b'\\x1c\\xd3@\\xf2\\xdc'    1  104678198\n",
       "3    426519218      b'\\x1c\\xd3@\\xf2\\xdc'    2  104679225\n",
       "4     48885000       b'\\x83\\xda\\x92\\x1f'    1  104680270\n",
       "..         ...                       ...  ...        ...\n",
       "534   28344058               b'\\xde\\xb2'    1  105660008\n",
       "535   28344058               b'\\xde\\xb2'    2  105660713\n",
       "536       2032          b'\\x7f\\x95\\x15P'    2  105672169\n",
       "537  125637886    b'\\x1e\\x8d\\x1d\\t\\xe1,'    1  105674074\n",
       "538  125637886    b'\\x1e\\x8d\\x1d\\t\\xe1,'    2  105674922\n",
       "\n",
       "[539 rows x 4 columns]"
      ]
     },
     "execution_count": 17,
     "metadata": {},
     "output_type": "execute_result"
    }
   ],
   "source": [
    "#f = open(\"snoop.bin\", \"rb\")\n",
    "#cont = f.read()\n",
    "#f = open(\"snoop2.bin\", \"wb\")\n",
    "#f.write(r.content)\n",
    "#f.close()\n",
    "d=[]\n",
    "#for s in parse_snoop(cont):\n",
    "for s in parse_snoop(r.content):\n",
    "\td.append({\"prop\": s.message.prop, \"value\":s.message.value, \"src\": s.metadata.source, \"ts\":s.metadata.recv_us})\n",
    "df = pd.DataFrame(d)\n",
    "df"
   ]
  },
  {
   "cell_type": "code",
   "execution_count": 18,
   "metadata": {},
   "outputs": [
    {
     "data": {
      "text/plain": [
       "array([      342, 426519218,  48885000, 447512792, 106468406,      1826,\n",
       "       415604280,       268,       930,      1252, 186277654, 222787050,\n",
       "            2008,      1492, 226575632,      1014, 352531596,      1166,\n",
       "       466861792,      1748, 327923662,      1652,      1378, 281404958,\n",
       "       213930490, 424296178,        64,  97395262, 128311776, 153606910,\n",
       "        92496406,      1324,  77189712, 160181264, 224265350, 460697444,\n",
       "             424,       986,       750,      1086, 204235378, 531111792,\n",
       "            1296,        58, 118547498,       126,       572, 288192684,\n",
       "       133553248,       808,      1954, 486411084,  53947286,      1422,\n",
       "             792, 322914082,      1360, 161026198,       266,       214,\n",
       "        73360796,       576,       718,       712, 176421414, 486676664,\n",
       "             134,      1608,       976,       620, 506107350,  97355154,\n",
       "               8, 390394314, 493706770, 228457352,      1882, 225987762,\n",
       "             778,       350, 354768598,        40,       814,       988,\n",
       "       145982762,  69469932, 283404270,      1824, 374433434, 508868860,\n",
       "       360881538, 393426736, 164554698,      1548,      1626, 304729348,\n",
       "            1224,  14148200,  51848226, 355917372, 134679852,  98846164,\n",
       "            1218,  21340964,        24,      2012, 411255328, 455819442,\n",
       "            1092,       760,  90357152, 451192796, 138008490,       182,\n",
       "            1402,      1646,       208, 306833732, 153977904,       296,\n",
       "            1808,      1102, 366276168, 466928408, 493120786, 187036034,\n",
       "       228079922, 278717728, 488190116,      1362, 132147294,       112,\n",
       "            1190,        30,      1364, 438476914, 517659184,       286,\n",
       "       308924990,      1628, 277264838,       200, 322866222,      1298,\n",
       "       132976370,      1888,      1850,       138,      1570, 214868288,\n",
       "             898,      1270,  55998866, 502422254,      1756, 361735112,\n",
       "       483061378, 516026720, 367735188, 125033672,       582, 462278652,\n",
       "       340190652, 348683336,       556,      1056, 341774690,  64622086,\n",
       "       135447768, 389058502,       192, 211234828,       578,      2040,\n",
       "            1318,       534,      1722,      1414, 365788312,      1264,\n",
       "       382171852, 240189356, 455182674, 405684800, 217315324,       664,\n",
       "             766,      1764, 331402698,      1268,  32221170, 238065186,\n",
       "            1466,      1512,        98, 165426068,       502,  19731790,\n",
       "             548, 516601822,      1672,       360, 402919658, 370663002,\n",
       "            1796, 107100110, 425123938, 269065724,        84,      1566,\n",
       "       498736062,       480, 414352486,      1806,       198, 387195024,\n",
       "        74297718, 162246334,  28344058, 125637886])"
      ]
     },
     "execution_count": 18,
     "metadata": {},
     "output_type": "execute_result"
    }
   ],
   "source": [
    "df[df.src==1].prop.unique()"
   ]
  }
 ],
 "metadata": {
  "kernelspec": {
   "display_name": "Python 3.10.6 ('vscode')",
   "language": "python",
   "name": "python3"
  },
  "language_info": {
   "codemirror_mode": {
    "name": "ipython",
    "version": 3
   },
   "file_extension": ".py",
   "mimetype": "text/x-python",
   "name": "python",
   "nbconvert_exporter": "python",
   "pygments_lexer": "ipython3",
   "version": "3.10.6"
  },
  "orig_nbformat": 4,
  "vscode": {
   "interpreter": {
    "hash": "abcf9a594d227fe8546474326e095c81c11f00841cf7e3fe22520785a7310ce1"
   }
  }
 },
 "nbformat": 4,
 "nbformat_minor": 2
}
