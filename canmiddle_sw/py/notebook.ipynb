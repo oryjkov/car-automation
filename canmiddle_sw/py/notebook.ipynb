{
 "cells": [
  {
   "cell_type": "code",
   "execution_count": 8,
   "metadata": {},
   "outputs": [],
   "source": [
    "!cd py && protoc --python_out=. --proto_path=../proto/ message.proto"
   ]
  },
  {
   "cell_type": "code",
   "execution_count": 8,
   "metadata": {},
   "outputs": [],
   "source": [
    "import requests\n",
    "import time\n",
    "host=\"192.168.50.116\"\n",
    "host=\"192.168.158.113\"\n",
    "duration_ms=10000\n",
    "r = requests.get(f\"http://{host}/start_snoop?duration_ms={duration_ms}\", {})\n",
    "r.text\n",
    "time.sleep(duration_ms/1000+0.1)\n",
    "r = requests.get(f\"http://{host}/get_snoop\", {})"
   ]
  },
  {
   "cell_type": "code",
   "execution_count": 2,
   "metadata": {},
   "outputs": [],
   "source": [
    "import message_pb2\n",
    "\n",
    "def parse_snoop(data):\n",
    "\tposition = 0\n",
    "\tlength_field = 0\n",
    "\twhile position < len(data):\n",
    "\t\tlength_field = data[position]\n",
    "\t\tposition += 1\n",
    "\t\tif position + length_field > len(data):\n",
    "\t\t\tprint(\"bah!\")\n",
    "\t\t\treturn\n",
    "\t\tencoded = data[position:position+length_field]\n",
    "\t\tposition += length_field\n",
    "\t\ts = message_pb2.SnoopData()\n",
    "\t\ts.ParseFromString(encoded)\n",
    "\t\tyield s\n"
   ]
  },
  {
   "cell_type": "code",
   "execution_count": 11,
   "metadata": {},
   "outputs": [],
   "source": [
    "for s in parse_snoop(r.content):\n",
    "\tif (s.metadata.source!=1):\n",
    "\t\tprint(s.metadata.source)"
   ]
  }
 ],
 "metadata": {
  "kernelspec": {
   "display_name": "Python 3.10.6 ('vscode')",
   "language": "python",
   "name": "python3"
  },
  "language_info": {
   "codemirror_mode": {
    "name": "ipython",
    "version": 3
   },
   "file_extension": ".py",
   "mimetype": "text/x-python",
   "name": "python",
   "nbconvert_exporter": "python",
   "pygments_lexer": "ipython3",
   "version": "3.10.6"
  },
  "orig_nbformat": 4,
  "vscode": {
   "interpreter": {
    "hash": "abcf9a594d227fe8546474326e095c81c11f00841cf7e3fe22520785a7310ce1"
   }
  }
 },
 "nbformat": 4,
 "nbformat_minor": 2
}
